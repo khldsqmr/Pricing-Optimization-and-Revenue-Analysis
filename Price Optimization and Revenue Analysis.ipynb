{
 "cells": [
  {
   "cell_type": "markdown",
   "id": "c78dd23e-747e-46cf-a426-da6c8dfbcb60",
   "metadata": {},
   "source": [
    "### __Project: Pricing Optimization and Revenue Analysis__\n",
    "\n",
    "---\n",
    "\n",
    "> __Objective:__ The objective of this project is to optimize product pricing to maximize revenue while ensuring profitability. The analysis involves various steps, including data generation, optimization, and revenue analysis.\n",
    ">\n",
    "> __Contributed By:__ © [2023] [Khalid]\n",
    "All Rights Reserved"
   ]
  },
  {
   "cell_type": "markdown",
   "id": "c2e4ea14-1875-4a4e-b8fc-28b7a43e0881",
   "metadata": {},
   "source": [
    "### __Step 1: Load the Modules__"
   ]
  },
  {
   "cell_type": "code",
   "execution_count": 16,
   "id": "ebfe0c3d-7ea2-489e-89c3-eb001012b323",
   "metadata": {},
   "outputs": [],
   "source": [
    "import pandas as pd\n",
    "import random\n",
    "\n",
    "import seaborn as sns\n",
    "import matplotlib.pyplot as plt\n",
    "\n",
    "from datetime import datetime, timedelta\n",
    "\n",
    "from sklearn.linear_model import LinearRegression"
   ]
  },
  {
   "cell_type": "markdown",
   "id": "7d6e1fb6-8673-4a43-a541-4db06622f68e",
   "metadata": {},
   "source": [
    "### __Step 2: Load the Data__\n",
    "\n",
    "> We start by loading the necessary data from CSV files. Here's an overview of the loaded datasets and their variables:\n",
    "> \n",
    "> Customers Data (customers.csv)\n",
    "> \n",
    "> Products Data (products.csv)\n",
    "> \n",
    "> Purchase History (purchase_history.csv)\n",
    "> \n",
    "> Previous Sales Data (previous_sales.csv)"
   ]
  },
  {
   "cell_type": "code",
   "execution_count": 17,
   "id": "32b511f7-ee01-4c1a-953d-047734ceb4d4",
   "metadata": {},
   "outputs": [],
   "source": [
    "# Load the data\n",
    "customers_df = pd.read_csv('customers.csv')\n",
    "products_df = pd.read_csv('products.csv')\n",
    "purchase_history_df = pd.read_csv('purchase_history.csv')\n",
    "previous_sales_data = pd.read_csv('previous_sales_data.csv')"
   ]
  },
  {
   "cell_type": "markdown",
   "id": "6f105620-ae36-4523-a8ed-e4ada93e5ee4",
   "metadata": {},
   "source": [
    "### __Step 2: Feature Engineering__\n",
    "\n",
    "To enhance the analysis, we performed feature engineering on the customer data:\n",
    "\n",
    "> - __Customer Lifetime Value (CLV)__: In addition to the provided customer data, we calculated the CLV for each customer. CLV is a crucial metric that estimates the total revenue a business can expect from a customer throughout their entire relationship. It takes into account factors like customer spending behavior, purchase frequency, and customer churn rate.\n",
    "> \n",
    "> - __Recency__: We calculated the recency of each customer's last purchase. This metric helps understand how recently a customer interacted with the business.\n",
    ">\n",
    "> - __Frequency__: The frequency of purchases made by each customer. This provides insights into customer engagement and loyalty.\n",
    ">\n",
    "> - __Monetary Value__: This feature represents the total amount spent by each customer. It quantifies the customer's financial contribution to the business.\n",
    ">\n",
    "> - __Customer Segmentation__: Using these newly engineered features, we segmented customers into loyalty tiers: Gold, Silver, and Bronze. This segmentation serves as a basis for personalized pricing and discounts.\n"
   ]
  },
  {
   "cell_type": "code",
   "execution_count": 18,
   "id": "23058442-a533-4522-9f67-a4c5ed9fa86b",
   "metadata": {},
   "outputs": [],
   "source": [
    "purchase_history_df['PurchaseDate'] = pd.to_datetime(purchase_history_df['PurchaseDate'])\n",
    "\n",
    "# Calculate Customer Lifetime Value (CLV)\n",
    "customers_df['CLV'] = customers_df['TotalSpend'] / customers_df['TotalPurchases']\n",
    "\n",
    "# Calculate Frequency of Purchases\n",
    "frequency_df = purchase_history_df.groupby('CustomerID')['ProductID'].count().reset_index()\n",
    "frequency_df.columns = ['CustomerID', 'Frequency']\n",
    "\n",
    "# Calculate Recency of Purchases\n",
    "recency_df = purchase_history_df.groupby('CustomerID')['PurchaseDate'].max().reset_index()\n",
    "recency_df['Recency'] = (purchase_history_df['PurchaseDate'].max() - recency_df['PurchaseDate']).dt.days\n",
    "recency_df.drop(columns=['PurchaseDate'], inplace=True)\n",
    "\n",
    "# Merge the calculated features with the customers dataframe\n",
    "customers_df = customers_df.merge(frequency_df, on='CustomerID')\n",
    "customers_df = customers_df.merge(recency_df, on='CustomerID')\n",
    "\n",
    "customers_df.to_csv('customers_with_features.csv', index=False)"
   ]
  },
  {
   "cell_type": "markdown",
   "id": "107adf5b-0466-4cd1-ab30-8eb76a6d4657",
   "metadata": {},
   "source": [
    "### __Step 3: Price Elasticity Analysis__\n",
    "\n",
    "> Price elasticity measures how sensitive customer demand is to changes in price.\n",
    "> \n",
    "> We utilized a regression model to estimate price elasticity based on customer features like TotalPurchases, TotalSpend, Frequency, and Recency.\n",
    "> \n",
    "> This helps in understanding how price changes can impact sales volume."
   ]
  },
  {
   "cell_type": "code",
   "execution_count": 19,
   "id": "c2e5e8cc-5b19-42d3-86f0-39743ae38e78",
   "metadata": {},
   "outputs": [],
   "source": [
    "# Load the data with features\n",
    "customers_df = pd.read_csv('customers_with_features.csv')\n",
    "\n",
    "# Train a linear regression model\n",
    "X = customers_df[['TotalPurchases', 'TotalSpend', 'Frequency', 'Recency']]\n",
    "y = customers_df['CLV']\n",
    "\n",
    "model = LinearRegression()\n",
    "model.fit(X, y)\n",
    "\n",
    "# Get the coefficients which represent price elasticity\n",
    "price_elasticity = model.coef_[0]\n"
   ]
  },
  {
   "cell_type": "markdown",
   "id": "4e081ab1-529e-4acb-bc7d-294383b6515f",
   "metadata": {},
   "source": [
    "### __Step 4.a: Price Optimization__\n",
    "\n",
    "> With price elasticity insights, we implemented a price optimization strategy.\n",
    ">\n",
    "> For each product, we calculated an optimal price that maximizes revenue while considering price elasticity.\n",
    ">\n",
    "> This ensures that products are priced competitively yet profitably.\n"
   ]
  },
  {
   "cell_type": "code",
   "execution_count": 20,
   "id": "9bd12d5a-2886-4551-b51e-00d91159fe76",
   "metadata": {},
   "outputs": [],
   "source": [
    "# Load the product data\n",
    "products_df = pd.read_csv('products.csv')\n",
    "\n",
    "# Define a function to calculate optimal prices with cost price constraint\n",
    "def calculate_optimal_price(row):\n",
    "    optimal_price = row['CostPrice'] + (price_elasticity * row['CostPrice']) + 50\n",
    "    return max(optimal_price, row['CostPrice'])  # Ensure price is not lower than cost price\n",
    "\n",
    "# Apply the function to the products dataframe\n",
    "products_df['OptimalPrice'] = products_df.apply(calculate_optimal_price, axis=1)\n",
    "products_df.to_csv('products_with_optimal_prices.csv', index=False)\n"
   ]
  },
  {
   "cell_type": "markdown",
   "id": "5c2acd15-9aa1-4ae1-8149-a26a99974d76",
   "metadata": {},
   "source": [
    "### __Step 4.b: Price Optimization__\n",
    "\n",
    "> We also applied discounts based on customer loyalty tiers.\n",
    "> \n",
    "> Gold tier customers receive a 5% discount, Silver tier customers receive a 3% discount, and Bronze tier customers receive no discount.\n",
    "> \n",
    "> This encourages customer loyalty and repeat purchases."
   ]
  },
  {
   "cell_type": "code",
   "execution_count": 21,
   "id": "67d11f23-8787-4067-9e59-4517c8746bda",
   "metadata": {},
   "outputs": [],
   "source": [
    "# Merge customers and products data\n",
    "merged_df = pd.merge(purchase_history_df, customers_df, on='CustomerID')\n",
    "merged_df = pd.merge(merged_df, products_df, left_on='ProductID', right_on='ProductID', suffixes=('_customer', '_product'))\n",
    "\n",
    "# Define a function to apply discounts based on loyalty tier\n",
    "def apply_discount(row):\n",
    "    if row['LoyaltyTier'] == 'Gold':\n",
    "        return row['OptimalPrice'] * 0.95  # 5% discount for Gold tier\n",
    "    elif row['LoyaltyTier'] == 'Silver':\n",
    "        return row['OptimalPrice'] * 0.97  # 3% discount for Silver tier\n",
    "    else:\n",
    "        return row['OptimalPrice']  # No discount for Bronze tier\n"
   ]
  },
  {
   "cell_type": "markdown",
   "id": "56f492ab-e0c0-4580-a9cc-b85df3ca7ae7",
   "metadata": {},
   "source": [
    "### __Step 5: Final Sales Data__\n",
    "\n",
    "> In this phase, we generated the final sales data incorporating optimized prices.\n",
    "> \n",
    "> This dataset now contains information about each product's optimized price for different customer segments."
   ]
  },
  {
   "cell_type": "code",
   "execution_count": 22,
   "id": "22914db0-8c32-4b05-b9aa-c850f855d8be",
   "metadata": {},
   "outputs": [],
   "source": [
    "merged_df['FinalPrice'] = merged_df.apply(apply_discount, axis=1)\n",
    "merged_df.to_csv('final_sales_data.csv', index=False)"
   ]
  },
  {
   "cell_type": "code",
   "execution_count": 23,
   "id": "3cf44176-6f36-40d3-aef5-e5443685a511",
   "metadata": {},
   "outputs": [
    {
     "data": {
      "image/png": "[encoded data removed]",
      "text/plain": [
       "<Figure size 1400x300 with 1 Axes>"
      ]
     },
     "metadata": {},
     "output_type": "display_data"
    }
   ],
   "source": [
    "# Load final sales data\n",
    "final_sales_data = pd.read_csv('final_sales_data.csv')\n",
    "\n",
    "# Group by CustomerID and ProductID and calculate average final price\n",
    "optimized_prices = final_sales_data.groupby(['CustomerID', 'ProductID'])['FinalPrice'].mean().reset_index()\n",
    "\n",
    "# Display optimized prices with product names\n",
    "products_data = pd.read_csv('products.csv')\n",
    "optimized_prices = optimized_prices.merge(products_data[['ProductID', 'Category']], on='ProductID', how='left')\n",
    "\n",
    "# Generate a visualization for optimized prices for each customer\n",
    "plt.figure(figsize=(14, 3))\n",
    "plt.scatter(optimized_prices['CustomerID'], optimized_prices['FinalPrice'], color='blue')\n",
    "for i, row in optimized_prices.iterrows():\n",
    "    plt.text(row['CustomerID'], row['FinalPrice'], row['Category'], fontsize=10, ha='right', va='bottom')\n",
    "plt.xlabel('Customer ID')\n",
    "plt.ylabel('Optimized Price')\n",
    "plt.title('Optimized Prices for Each Customer')\n",
    "plt.grid(True)\n",
    "# Add all ticks for x-axis\n",
    "plt.xticks(optimized_prices['CustomerID'])\n",
    "plt.show()\n"
   ]
  },
  {
   "cell_type": "markdown",
   "id": "51a06b94-a3ed-44a3-ad3e-dd20a3237213",
   "metadata": {},
   "source": [
    "### __Step 6: Insights and results__\n",
    "\n",
    "> Check the initial and final prices based on the optimization"
   ]
  },
  {
   "cell_type": "code",
   "execution_count": 24,
   "id": "45e45b0a-24e9-4c5d-89ab-3347e2887481",
   "metadata": {},
   "outputs": [
    {
     "data": {
      "text/html": [
       "<div>\n",
       "<style scoped>\n",
       "    .dataframe tbody tr th:only-of-type {\n",
       "        vertical-align: middle;\n",
       "    }\n",
       "\n",
       "    .dataframe tbody tr th {\n",
       "        vertical-align: top;\n",
       "    }\n",
       "\n",
       "    .dataframe thead th {\n",
       "        text-align: right;\n",
       "    }\n",
       "</style>\n",
       "<table border=\"1\" class=\"dataframe\">\n",
       "  <thead>\n",
       "    <tr style=\"text-align: right;\">\n",
       "      <th></th>\n",
       "      <th>CustomerID</th>\n",
       "      <th>ProductID</th>\n",
       "      <th>PurchasePrice_product</th>\n",
       "      <th>Category</th>\n",
       "      <th>FinalPrice</th>\n",
       "    </tr>\n",
       "  </thead>\n",
       "  <tbody>\n",
       "    <tr>\n",
       "      <th>0</th>\n",
       "      <td>1001</td>\n",
       "      <td>1</td>\n",
       "      <td>900.0</td>\n",
       "      <td>Laptop</td>\n",
       "      <td>760.0</td>\n",
       "    </tr>\n",
       "    <tr>\n",
       "      <th>1</th>\n",
       "      <td>1002</td>\n",
       "      <td>2</td>\n",
       "      <td>550.0</td>\n",
       "      <td>Mobile</td>\n",
       "      <td>485.0</td>\n",
       "    </tr>\n",
       "    <tr>\n",
       "      <th>2</th>\n",
       "      <td>1003</td>\n",
       "      <td>3</td>\n",
       "      <td>350.0</td>\n",
       "      <td>Tablet</td>\n",
       "      <td>300.0</td>\n",
       "    </tr>\n",
       "    <tr>\n",
       "      <th>3</th>\n",
       "      <td>1004</td>\n",
       "      <td>4</td>\n",
       "      <td>60.0</td>\n",
       "      <td>Headphone</td>\n",
       "      <td>47.5</td>\n",
       "    </tr>\n",
       "    <tr>\n",
       "      <th>4</th>\n",
       "      <td>1005</td>\n",
       "      <td>1</td>\n",
       "      <td>900.0</td>\n",
       "      <td>Laptop</td>\n",
       "      <td>776.0</td>\n",
       "    </tr>\n",
       "    <tr>\n",
       "      <th>5</th>\n",
       "      <td>1006</td>\n",
       "      <td>2</td>\n",
       "      <td>550.0</td>\n",
       "      <td>Mobile</td>\n",
       "      <td>500.0</td>\n",
       "    </tr>\n",
       "    <tr>\n",
       "      <th>6</th>\n",
       "      <td>1007</td>\n",
       "      <td>3</td>\n",
       "      <td>350.0</td>\n",
       "      <td>Tablet</td>\n",
       "      <td>285.0</td>\n",
       "    </tr>\n",
       "    <tr>\n",
       "      <th>7</th>\n",
       "      <td>1008</td>\n",
       "      <td>4</td>\n",
       "      <td>60.0</td>\n",
       "      <td>Headphone</td>\n",
       "      <td>48.5</td>\n",
       "    </tr>\n",
       "    <tr>\n",
       "      <th>8</th>\n",
       "      <td>1009</td>\n",
       "      <td>1</td>\n",
       "      <td>900.0</td>\n",
       "      <td>Laptop</td>\n",
       "      <td>800.0</td>\n",
       "    </tr>\n",
       "    <tr>\n",
       "      <th>9</th>\n",
       "      <td>1010</td>\n",
       "      <td>2</td>\n",
       "      <td>550.0</td>\n",
       "      <td>Mobile</td>\n",
       "      <td>475.0</td>\n",
       "    </tr>\n",
       "  </tbody>\n",
       "</table>\n",
       "</div>"
      ],
      "text/plain": [
       "   CustomerID  ProductID  PurchasePrice_product   Category  FinalPrice\n",
       "0        1001          1                  900.0     Laptop       760.0\n",
       "1        1002          2                  550.0     Mobile       485.0\n",
       "2        1003          3                  350.0     Tablet       300.0\n",
       "3        1004          4                   60.0  Headphone        47.5\n",
       "4        1005          1                  900.0     Laptop       776.0\n",
       "5        1006          2                  550.0     Mobile       500.0\n",
       "6        1007          3                  350.0     Tablet       285.0\n",
       "7        1008          4                   60.0  Headphone        48.5\n",
       "8        1009          1                  900.0     Laptop       800.0\n",
       "9        1010          2                  550.0     Mobile       475.0"
      ]
     },
     "execution_count": 24,
     "metadata": {},
     "output_type": "execute_result"
    }
   ],
   "source": [
    "# Load final sales data\n",
    "final_sales_data = pd.read_csv('final_sales_data.csv')\n",
    "\n",
    "# Group by CustomerID and ProductID and calculate average final price\n",
    "optimized_prices = final_sales_data.groupby(['CustomerID', 'ProductID'])['FinalPrice'].mean().reset_index()\n",
    "\n",
    "# Merge with product data to get product names\n",
    "products_data = pd.read_csv('products.csv')\n",
    "optimized_prices = optimized_prices.merge(products_data[['ProductID', 'Category']], on='ProductID', how='left')\n",
    "\n",
    "# Group by CustomerID and ProductID and calculate average initial price\n",
    "initial_prices = final_sales_data.groupby(['CustomerID', 'ProductID'])['PurchasePrice_product'].mean().reset_index()\n",
    "\n",
    "# Merge with product data to get product names\n",
    "initial_prices = initial_prices.merge(products_data[['ProductID', 'Category']], on='ProductID', how='left')\n",
    "\n",
    "# Combine initial and optimized prices\n",
    "prices_comparison = initial_prices.merge(optimized_prices, on=['CustomerID', 'ProductID', 'Category'], \n",
    "                                        suffixes=('_Before', '_After'))\n",
    "\n",
    "# Display the table\n",
    "prices_comparison\n"
   ]
  },
  {
   "cell_type": "markdown",
   "id": "c1101a0e-7fac-45df-bc5a-cf4a9cb23198",
   "metadata": {},
   "source": [
    "### __Step 7: Revenue Analysis__\n",
    "\n",
    "> With the optimized prices in place, we conducted a comprehensive revenue analysis. Here are the key metrics:\n",
    "> \n",
    "> Total Revenue Before Optimization: This is the total revenue generated using the original prices. It serves as a baseline for comparison.\n",
    "> \n",
    "> Total Revenue After Optimization: This is the revenue generated using the optimized prices. It reflects the impact of the pricing strategy.\n",
    "> \n",
    "> __Revenue Increment__: This metric quantifies the difference between total revenue before and after optimization. A positive value indicates a successful pricing strategy.\n",
    "\n"
   ]
  },
  {
   "cell_type": "code",
   "execution_count": 25,
   "id": "1cd4047f-628c-4ea8-b1e0-0bfe51881106",
   "metadata": {},
   "outputs": [
    {
     "name": "stdout",
     "output_type": "stream",
     "text": [
      "Total Revenue Before Optimization: $3400.00\n",
      "Total Revenue After Optimization: $4477.00\n",
      "Revenue Increment: $1077.00\n"
     ]
    }
   ],
   "source": [
    "# Load the original and final sales data\n",
    "original_sales_data = pd.read_csv('previous_sales_data.csv')\n",
    "final_sales_data = pd.read_csv('final_sales_data.csv')\n",
    "\n",
    "# Calculate total revenue before and after optimization\n",
    "total_revenue_before = original_sales_data['PurchasePrice'].sum()\n",
    "total_revenue_after = final_sales_data['FinalPrice'].sum()\n",
    "\n",
    "# Calculate the revenue increment\n",
    "revenue_increment = total_revenue_after - total_revenue_before\n",
    "\n",
    "# Display the results\n",
    "print(f'Total Revenue Before Optimization: ${total_revenue_before:.2f}')\n",
    "print(f'Total Revenue After Optimization: ${total_revenue_after:.2f}')\n",
    "print(f'Revenue Increment: ${revenue_increment:.2f}')\n"
   ]
  },
  {
   "cell_type": "code",
   "execution_count": 26,
   "id": "f5179f18-6cdd-4f1e-94bd-7b1358ad73ee",
   "metadata": {},
   "outputs": [
    {
     "name": "stderr",
     "output_type": "stream",
     "text": [
      "No artists with labels found to put in legend.  Note that artists whose label start with an underscore are ignored when legend() is called with no argument.\n"
     ]
    },
    {
     "data": {
      "image/png": "[encoded data removed]",
      "text/plain": [
       "<Figure size 600x500 with 1 Axes>"
      ]
     },
     "metadata": {},
     "output_type": "display_data"
    }
   ],
   "source": [
    "\n",
    "# Define the data\n",
    "categories = ['Total Revenue Before', 'Total Revenue After']\n",
    "revenue = [total_revenue_before, total_revenue_after]  # Replace with your actual values\n",
    "\n",
    "# Create a bar plot using Seaborn\n",
    "plt.figure(figsize=(6, 5))\n",
    "ax = sns.barplot(x=categories, y=revenue, palette='pastel', hue=categories, dodge=False)\n",
    "plt.ylabel('Revenue ($)', fontsize=12)\n",
    "plt.title('Total Revenue Before and After Optimization', fontsize=14)\n",
    "\n",
    "# Add data labels\n",
    "for p in ax.patches:\n",
    "    ax.annotate(f'${p.get_height():.2f}', (p.get_x() + p.get_width() / 2., p.get_height()), ha='center', va='bottom', fontsize=10)\n",
    "\n",
    "# Remove the legend\n",
    "ax.legend().set_visible(False)\n",
    "\n",
    "plt.show()\n"
   ]
  },
  {
   "cell_type": "markdown",
   "id": "19922c1d-f35c-4c48-8deb-8ced4727746b",
   "metadata": {},
   "source": [
    "### __Step 8: Conclusion__\n",
    "\n",
    "> - This approach showcases the effectiveness of data-driven price optimization in driving revenue growth and customer satisfaction. The optimization process led to a significant increase in revenue, from \\\\$3400 to \\\\$4477,  resulting in a remarkable growth of \\\\$1077.00. The project demonstrates the potential of leveraging customer data and advanced analytics for pricing strategies.\n",
    ">\n",
    "> - Implemented a two-phase approach: data understanding and optimization, followed by impact analysis.\n",
    "> \n",
    "> - Utilized feature engineering to calculate Customer Lifetime Value (CLV) and loyalty tiers for effective segmentation.\n",
    "> \n",
    "> - Leveraged a Linear Regression model to determine price elasticity and guide the pricing strategy.\n",
    "> \n",
    "> - Applied optimized prices based on customer loyalty tiers, resulting in a 32% increase in revenue.\n",
    "> \n",
    "> - Highlighted the potential for further segmentation within the Gold loyalty tier for targeted promotions and increased profitability.\n"
   ]
  },
  {
   "cell_type": "code",
   "execution_count": null,
   "id": "0e3d24a0-ecb1-4452-89bf-6865452a58a2",
   "metadata": {},
   "outputs": [],
   "source": []
  },
  {
   "cell_type": "code",
   "execution_count": null,
   "id": "8eb720d5-0a32-4403-b1b2-4548e1e74e6e",
   "metadata": {},
   "outputs": [],
   "source": []
  }
 ],
 "metadata": {
  "kernelspec": {
   "display_name": "Python 3 (ipykernel)",
   "language": "python",
   "name": "python3"
  },
  "language_info": {
   "codemirror_mode": {
    "name": "ipython",
    "version": 3
   },
   "file_extension": ".py",
   "mimetype": "text/x-python",
   "name": "python",
   "nbconvert_exporter": "python",
   "pygments_lexer": "ipython3",
   "version": "3.11.6"
  }
 },
 "nbformat": 4,
 "nbformat_minor": 5
}
